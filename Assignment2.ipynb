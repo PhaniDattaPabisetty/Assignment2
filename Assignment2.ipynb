{
  "nbformat": 4,
  "nbformat_minor": 0,
  "metadata": {
    "colab": {
      "provenance": []
    },
    "kernelspec": {
      "name": "python3",
      "display_name": "Python 3"
    },
    "language_info": {
      "name": "python"
    }
  },
  "cells": [
    {
      "cell_type": "code",
      "source": [
        "# 1.Use a python code to display the following star pattern using the for loop\n",
        "for i in range(0,6):\n",
        "  print(\"\\n\")\n",
        "  for j in range(0,i):\n",
        "    print(\"*\",end=\" \")\n",
        "M=4\n",
        "while M >0:\n",
        "  print(\"\\n\")\n",
        "  for t in range(0,M):\n",
        "    print(\"* \",end=\"\")\n",
        "  M=M-1"
      ],
      "metadata": {
        "colab": {
          "base_uri": "https://localhost:8080/"
        },
        "id": "W1LrtRXvS-vq",
        "outputId": "bcd8dd47-7aee-4c95-8643-d0996682b470"
      },
      "execution_count": null,
      "outputs": [
        {
          "output_type": "stream",
          "name": "stdout",
          "text": [
            "\n",
            "\n",
            "\n",
            "\n",
            "* \n",
            "\n",
            "* * \n",
            "\n",
            "* * * \n",
            "\n",
            "* * * * \n",
            "\n",
            "* * * * * \n",
            "\n",
            "* * * * \n",
            "\n",
            "* * * \n",
            "\n",
            "* * \n",
            "\n",
            "* "
          ]
        }
      ]
    },
    {
      "cell_type": "code",
      "source": [
        "# 2.Use looping to output the elements from a provided list present at odd indexes.\n",
        "my_list = [10, 20, 30, 40, 50, 60, 70, 80, 90, 100]\n",
        "for i in range(1,len(my_list),2):\n",
        "    print(my_list[i])"
      ],
      "metadata": {
        "colab": {
          "base_uri": "https://localhost:8080/"
        },
        "id": "q4ADumF4S_-R",
        "outputId": "687599a2-fd23-4bca-f0b6-280c34c3343e"
      },
      "execution_count": null,
      "outputs": [
        {
          "output_type": "stream",
          "name": "stdout",
          "text": [
            "20\n",
            "40\n",
            "60\n",
            "80\n",
            "100\n"
          ]
        }
      ]
    },
    {
      "cell_type": "code",
      "execution_count": null,
      "metadata": {
        "colab": {
          "base_uri": "https://localhost:8080/"
        },
        "id": "9h5iulVFSox4",
        "outputId": "b2659630-f6d4-4d05-9d11-b7b1366bf55e"
      },
      "outputs": [
        {
          "output_type": "stream",
          "name": "stdout",
          "text": [
            "[23, 'Python', 23.98]\n",
            "[<class 'int'>, <class 'str'>, <class 'float'>]\n"
          ]
        }
      ],
      "source": [
        "# 3.Write a code that appends the type of elements from a given list \n",
        "x = [23, 'Python', 23.98]\n",
        "Type=[]\n",
        "for i in x:#To acces the elements in the List \n",
        "  Type.append(type(i))#it iused to append the type of values in the list\n",
        "print(x)\n",
        "print(Type)"
      ]
    },
    {
      "cell_type": "code",
      "source": [
        "#4. Write a function that takes a list and returns a new list with unique items of the first list.\n",
        "SampleList: [1,2,3,3,3,3,4,5]\n",
        "UniqueList = []\n",
        "def unqlist(SampleList):\n",
        "  for i in SampleList:\n",
        "    if i not in UniqueList:\n",
        "          UniqueList.append(i)\n",
        "  return UniqueList\n",
        "print(unqlist([1,2,3,3,3,3,4,5]))\n",
        "      \n",
        "\n",
        "\n"
      ],
      "metadata": {
        "colab": {
          "base_uri": "https://localhost:8080/"
        },
        "id": "NvSxFT_iTB1d",
        "outputId": "07c7ea52-5b2a-4732-fcf6-75a1ba127fe0"
      },
      "execution_count": null,
      "outputs": [
        {
          "output_type": "stream",
          "name": "stdout",
          "text": [
            "[1, 2, 3, 4, 5]\n"
          ]
        }
      ]
    },
    {
      "cell_type": "code",
      "source": [
        "def count_string(string):\n",
        "  up_count = 0\n",
        "  low_count = 0\n",
        "  for char in string:\n",
        "    if char.isupper():\n",
        "      up_count +=1\n",
        "    elif char.islower():\n",
        "      low_count += 1\n",
        "  return up_count, low_count\n",
        "\n",
        "input_string = 'The quick  Brow Fox'\n",
        "up_count,low_count = count_string(input_string)\n",
        "\n",
        "print(\"No.of Upper case characters:\", up_count)\n",
        "print(\"No.of Lower case characters:\", low_count)\n",
        "\n",
        "\n",
        "\n"
      ],
      "metadata": {
        "colab": {
          "base_uri": "https://localhost:8080/"
        },
        "id": "XxtFO-TYTChd",
        "outputId": "e0c9e1c1-c2e4-48f4-d5cd-aa12584613af"
      },
      "execution_count": null,
      "outputs": [
        {
          "output_type": "stream",
          "name": "stdout",
          "text": [
            "No.of Upper case characters: 3\n",
            "No.of Lower case characters: 12\n"
          ]
        }
      ]
    }
  ]
}